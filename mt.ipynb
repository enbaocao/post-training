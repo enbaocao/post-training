{
 "cells": [
  {
   "cell_type": "code",
   "execution_count": 1,
   "id": "36746005-5473-48be-94b8-65a61e772d4b",
   "metadata": {},
   "outputs": [
    {
     "name": "stdout",
     "output_type": "stream",
     "text": [
      "Defaulting to user installation because normal site-packages is not writeable\n",
      "Requirement already satisfied: transformers in ./.local/lib/python3.10/site-packages (4.48.3)\n",
      "Requirement already satisfied: datasets in ./.local/lib/python3.10/site-packages (3.3.0)\n",
      "Requirement already satisfied: evaluate in ./.local/lib/python3.10/site-packages (0.4.3)\n",
      "Requirement already satisfied: sacrebleu in ./.local/lib/python3.10/site-packages (2.5.1)\n",
      "Requirement already satisfied: tf-keras in ./.local/lib/python3.10/site-packages (2.18.0)\n",
      "Requirement already satisfied: ipywidgets in ./.local/lib/python3.10/site-packages (8.1.5)\n",
      "Requirement already satisfied: sentencepiece in ./.local/lib/python3.10/site-packages (0.2.0)\n",
      "Requirement already satisfied: sacremoses in ./.local/lib/python3.10/site-packages (0.1.1)\n",
      "Collecting accelerate>=0.26.0\n",
      "  Downloading accelerate-1.3.0-py3-none-any.whl (336 kB)\n",
      "\u001b[2K     \u001b[90m━━━━━━━━━━━━━━━━━━━━━━━━━━━━━━━━━━━━━━━\u001b[0m \u001b[32m336.6/336.6 KB\u001b[0m \u001b[31m7.0 MB/s\u001b[0m eta \u001b[36m0:00:00\u001b[0ma \u001b[36m0:00:01\u001b[0m\n",
      "Requirement already satisfied: filelock in /usr/lib/python3/dist-packages (from transformers) (3.6.0)\n",
      "Requirement already satisfied: huggingface-hub<1.0,>=0.24.0 in ./.local/lib/python3.10/site-packages (from transformers) (0.28.1)\n",
      "Requirement already satisfied: requests in ./.local/lib/python3.10/site-packages (from transformers) (2.32.3)\n",
      "Requirement already satisfied: tqdm>=4.27 in ./.local/lib/python3.10/site-packages (from transformers) (4.67.1)\n",
      "Requirement already satisfied: pyyaml>=5.1 in /usr/lib/python3/dist-packages (from transformers) (5.4.1)\n",
      "Requirement already satisfied: regex!=2019.12.17 in ./.local/lib/python3.10/site-packages (from transformers) (2024.11.6)\n",
      "Requirement already satisfied: numpy>=1.17 in /usr/lib/python3/dist-packages (from transformers) (1.21.5)\n",
      "Requirement already satisfied: safetensors>=0.4.1 in ./.local/lib/python3.10/site-packages (from transformers) (0.5.2)\n",
      "Requirement already satisfied: tokenizers<0.22,>=0.21 in ./.local/lib/python3.10/site-packages (from transformers) (0.21.0)\n",
      "Requirement already satisfied: packaging>=20.0 in /usr/lib/python3/dist-packages (from transformers) (21.3)\n",
      "Requirement already satisfied: fsspec[http]<=2024.12.0,>=2023.1.0 in /usr/lib/python3/dist-packages (from datasets) (2024.3.1)\n",
      "Requirement already satisfied: pandas in /usr/lib/python3/dist-packages (from datasets) (1.3.5)\n",
      "Requirement already satisfied: dill<0.3.9,>=0.3.0 in ./.local/lib/python3.10/site-packages (from datasets) (0.3.8)\n",
      "Requirement already satisfied: xxhash in ./.local/lib/python3.10/site-packages (from datasets) (3.5.0)\n",
      "Requirement already satisfied: aiohttp in ./.local/lib/python3.10/site-packages (from datasets) (3.11.12)\n",
      "Requirement already satisfied: multiprocess<0.70.17 in ./.local/lib/python3.10/site-packages (from datasets) (0.70.16)\n",
      "Requirement already satisfied: pyarrow>=15.0.0 in ./.local/lib/python3.10/site-packages (from datasets) (19.0.0)\n",
      "Requirement already satisfied: colorama in /usr/lib/python3/dist-packages (from sacrebleu) (0.4.4)\n",
      "Requirement already satisfied: lxml in /usr/lib/python3/dist-packages (from sacrebleu) (4.8.0)\n",
      "Requirement already satisfied: tabulate>=0.8.9 in ./.local/lib/python3.10/site-packages (from sacrebleu) (0.9.0)\n",
      "Requirement already satisfied: portalocker in ./.local/lib/python3.10/site-packages (from sacrebleu) (3.1.1)\n",
      "Requirement already satisfied: tensorflow<2.19,>=2.18 in /usr/lib/python3/dist-packages (from tf-keras) (2.18.0)\n",
      "Requirement already satisfied: jupyterlab-widgets~=3.0.12 in ./.local/lib/python3.10/site-packages (from ipywidgets) (3.0.13)\n",
      "Requirement already satisfied: ipython>=6.1.0 in /usr/lib/python3/dist-packages (from ipywidgets) (7.31.1)\n",
      "Requirement already satisfied: widgetsnbextension~=4.0.12 in ./.local/lib/python3.10/site-packages (from ipywidgets) (4.0.13)\n",
      "Requirement already satisfied: comm>=0.1.3 in ./.local/lib/python3.10/site-packages (from ipywidgets) (0.2.2)\n",
      "Requirement already satisfied: traitlets>=4.3.1 in /usr/lib/python3/dist-packages (from ipywidgets) (5.1.1)\n",
      "Requirement already satisfied: joblib in /usr/lib/python3/dist-packages (from sacremoses) (0.17.0)\n",
      "Requirement already satisfied: click in /usr/lib/python3/dist-packages (from sacremoses) (8.0.3)\n",
      "Requirement already satisfied: psutil in /usr/lib/python3/dist-packages (from accelerate>=0.26.0) (5.9.0)\n",
      "Requirement already satisfied: torch>=2.0.0 in /usr/lib/python3/dist-packages (from accelerate>=0.26.0) (2.5.1)\n",
      "Requirement already satisfied: frozenlist>=1.1.1 in ./.local/lib/python3.10/site-packages (from aiohttp->datasets) (1.5.0)\n",
      "Requirement already satisfied: async-timeout<6.0,>=4.0 in ./.local/lib/python3.10/site-packages (from aiohttp->datasets) (5.0.1)\n",
      "Requirement already satisfied: attrs>=17.3.0 in /usr/lib/python3/dist-packages (from aiohttp->datasets) (21.2.0)\n",
      "Requirement already satisfied: propcache>=0.2.0 in ./.local/lib/python3.10/site-packages (from aiohttp->datasets) (0.2.1)\n",
      "Requirement already satisfied: yarl<2.0,>=1.17.0 in ./.local/lib/python3.10/site-packages (from aiohttp->datasets) (1.18.3)\n",
      "Requirement already satisfied: aiosignal>=1.1.2 in ./.local/lib/python3.10/site-packages (from aiohttp->datasets) (1.3.2)\n",
      "Requirement already satisfied: multidict<7.0,>=4.5 in ./.local/lib/python3.10/site-packages (from aiohttp->datasets) (6.1.0)\n",
      "Requirement already satisfied: aiohappyeyeballs>=2.3.0 in ./.local/lib/python3.10/site-packages (from aiohttp->datasets) (2.4.6)\n",
      "Requirement already satisfied: typing-extensions>=3.7.4.3 in /usr/lib/python3/dist-packages (from huggingface-hub<1.0,>=0.24.0->transformers) (4.9.0)\n",
      "Requirement already satisfied: certifi>=2017.4.17 in /usr/lib/python3/dist-packages (from requests->transformers) (2020.6.20)\n",
      "Requirement already satisfied: urllib3<3,>=1.21.1 in /usr/lib/python3/dist-packages (from requests->transformers) (1.26.5)\n",
      "Requirement already satisfied: idna<4,>=2.5 in /usr/lib/python3/dist-packages (from requests->transformers) (3.3)\n",
      "Requirement already satisfied: charset-normalizer<4,>=2 in ./.local/lib/python3.10/site-packages (from requests->transformers) (3.4.1)\n",
      "Installing collected packages: accelerate\n",
      "Successfully installed accelerate-1.3.0\n"
     ]
    }
   ],
   "source": [
    "!pip install transformers datasets evaluate sacrebleu tf-keras ipywidgets sentencepiece sacremoses \"accelerate>=0.26.0\""
   ]
  },
  {
   "cell_type": "code",
   "execution_count": 2,
   "id": "c441680a-01d9-4cbb-8a39-af7ec279037a",
   "metadata": {},
   "outputs": [
    {
     "name": "stderr",
     "output_type": "stream",
     "text": [
      "2025-02-14 22:34:51.350840: E external/local_xla/xla/stream_executor/cuda/cuda_fft.cc:477] Unable to register cuFFT factory: Attempting to register factory for plugin cuFFT when one has already been registered\n",
      "WARNING: All log messages before absl::InitializeLog() is called are written to STDERR\n",
      "E0000 00:00:1739572491.368596    3065 cuda_dnn.cc:8310] Unable to register cuDNN factory: Attempting to register factory for plugin cuDNN when one has already been registered\n",
      "E0000 00:00:1739572491.374013    3065 cuda_blas.cc:1418] Unable to register cuBLAS factory: Attempting to register factory for plugin cuBLAS when one has already been registered\n"
     ]
    }
   ],
   "source": [
    "# import libraries\n",
    "import evaluate\n",
    "import numpy as np\n",
    "from datasets import load_dataset\n",
    "from transformers import (AutoTokenizer, AutoModelForSeq2SeqLM,\n",
    "                          DataCollatorForSeq2Seq, Seq2SeqTrainingArguments,\n",
    "                          Seq2SeqTrainer)"
   ]
  },
  {
   "cell_type": "code",
   "execution_count": 3,
   "id": "095d823f-3939-4948-ab2a-45a51146c813",
   "metadata": {},
   "outputs": [],
   "source": [
    "# load dataset\n",
    "dataset = load_dataset(\"qanastek/ELRC-Medical-V2\", \"en-fr\")\n",
    "ds = dataset[\"train\"].train_test_split(test_size=0.2, seed=42) if \"train\" in dataset else dataset.train_test_split(test_size=0.2, seed=42)"
   ]
  },
  {
   "cell_type": "code",
   "execution_count": 4,
   "id": "e0abe445-a880-489d-ac63-b8e14580501e",
   "metadata": {},
   "outputs": [],
   "source": [
    "# load pretrained model and tokenizer\n",
    "model_name = \"Helsinki-NLP/opus-mt-en-fr\"\n",
    "tokenizer = AutoTokenizer.from_pretrained(model_name)\n",
    "model = AutoModelForSeq2SeqLM.from_pretrained(model_name)"
   ]
  },
  {
   "cell_type": "code",
   "execution_count": 5,
   "id": "6feca778-5566-439d-a7ea-1b5bdeeb7c7a",
   "metadata": {},
   "outputs": [],
   "source": [
    "def tokenize_fn(examples):\n",
    "    en_texts = [ex[\"en\"] for ex in examples[\"translation\"]]\n",
    "    fr_texts = [ex[\"fr\"] for ex in examples[\"translation\"]]\n",
    "    model_inputs = tokenizer(en_texts, max_length=128, truncation=True)\n",
    "    with tokenizer.as_target_tokenizer():\n",
    "        labels = tokenizer(fr_texts, max_length=128, truncation=True)\n",
    "    model_inputs[\"labels\"] = labels[\"input_ids\"]\n",
    "    return model_inputs"
   ]
  },
  {
   "cell_type": "code",
   "execution_count": 6,
   "id": "6ea1fc82-f20a-4d42-8a02-c93e65c0ce66",
   "metadata": {},
   "outputs": [],
   "source": [
    "tokenized_ds = ds.map(tokenize_fn, batched=True)"
   ]
  },
  {
   "cell_type": "code",
   "execution_count": 7,
   "id": "b8308f59-712b-47e9-a2ed-8e6da3199f6b",
   "metadata": {},
   "outputs": [],
   "source": [
    "# data collator\n",
    "data_collator = DataCollatorForSeq2Seq(tokenizer, model=model)"
   ]
  },
  {
   "cell_type": "code",
   "execution_count": 8,
   "id": "af50404e-a0cd-4f5b-a820-7291196da2e2",
   "metadata": {},
   "outputs": [
    {
     "name": "stderr",
     "output_type": "stream",
     "text": [
      "/home/ubuntu/.local/lib/python3.10/site-packages/transformers/training_args.py:1575: FutureWarning: `evaluation_strategy` is deprecated and will be removed in version 4.46 of 🤗 Transformers. Use `eval_strategy` instead\n",
      "  warnings.warn(\n"
     ]
    }
   ],
   "source": [
    "# training arguments\n",
    "training_args = Seq2SeqTrainingArguments(\n",
    "    output_dir=\"./results\",\n",
    "    evaluation_strategy=\"epoch\",\n",
    "    learning_rate=2e-5,\n",
    "    per_device_train_batch_size=16,\n",
    "    per_device_eval_batch_size=16,\n",
    "    weight_decay=0.01,\n",
    "    save_total_limit=3,\n",
    "    num_train_epochs=3,\n",
    "    predict_with_generate=True,\n",
    "    fp16=True,\n",
    "    logging_dir=\"./logs\"\n",
    ")"
   ]
  },
  {
   "cell_type": "code",
   "execution_count": 9,
   "id": "d97905f9-7efe-4ebf-b310-26b751aaf758",
   "metadata": {},
   "outputs": [
    {
     "data": {
      "application/vnd.jupyter.widget-view+json": {
       "model_id": "c5f0b929767742049377b8a4bc7ee6ae",
       "version_major": 2,
       "version_minor": 0
      },
      "text/plain": [
       "Downloading builder script:   0%|          | 0.00/8.15k [00:00<?, ?B/s]"
      ]
     },
     "metadata": {},
     "output_type": "display_data"
    }
   ],
   "source": [
    "# load bleu metric using evaluate\n",
    "metric = evaluate.load(\"sacrebleu\")"
   ]
  },
  {
   "cell_type": "code",
   "execution_count": 10,
   "id": "c64051e4-05b1-4bbc-89a9-290f99324e31",
   "metadata": {},
   "outputs": [],
   "source": [
    "def compute_metrics(eval_pred):\n",
    "    predictions, labels = eval_pred\n",
    "    decoded_preds = tokenizer.batch_decode(predictions, skip_special_tokens=True)\n",
    "    labels = np.where(labels != -100, labels, tokenizer.pad_token_id)\n",
    "    decoded_labels = tokenizer.batch_decode(labels, skip_special_tokens=True)\n",
    "    decoded_preds = [pred.strip() for pred in decoded_preds]\n",
    "    decoded_labels = [[lbl.strip()] for lbl in decoded_labels]\n",
    "    result = metric.compute(predictions=decoded_preds, references=decoded_labels)\n",
    "    return {\"bleu\": result[\"score\"]}"
   ]
  },
  {
   "cell_type": "code",
   "execution_count": 11,
   "id": "928ef217-4ab3-40ff-a411-1af5c85fe7c0",
   "metadata": {},
   "outputs": [
    {
     "name": "stderr",
     "output_type": "stream",
     "text": [
      "/tmp/ipykernel_3065/2610996801.py:2: FutureWarning: `tokenizer` is deprecated and will be removed in version 5.0.0 for `Seq2SeqTrainer.__init__`. Use `processing_class` instead.\n",
      "  trainer = Seq2SeqTrainer(\n"
     ]
    }
   ],
   "source": [
    "# setup trainer\n",
    "trainer = Seq2SeqTrainer(\n",
    "    model=model,\n",
    "    args=training_args,\n",
    "    train_dataset=tokenized_ds[\"train\"],\n",
    "    eval_dataset=tokenized_ds[\"test\"],\n",
    "    tokenizer=tokenizer,\n",
    "    data_collator=data_collator,\n",
    "    compute_metrics=compute_metrics\n",
    ")"
   ]
  },
  {
   "cell_type": "code",
   "execution_count": 12,
   "id": "00576a37-a8b4-4528-8150-4861e21e5eea",
   "metadata": {},
   "outputs": [
    {
     "data": {
      "text/html": [
       "\n",
       "    <div>\n",
       "      \n",
       "      <progress value='1974' max='1974' style='width:300px; height:20px; vertical-align: middle;'></progress>\n",
       "      [1974/1974 13:25, Epoch 3/3]\n",
       "    </div>\n",
       "    <table border=\"1\" class=\"dataframe\">\n",
       "  <thead>\n",
       " <tr style=\"text-align: left;\">\n",
       "      <th>Epoch</th>\n",
       "      <th>Training Loss</th>\n",
       "      <th>Validation Loss</th>\n",
       "      <th>Bleu</th>\n",
       "    </tr>\n",
       "  </thead>\n",
       "  <tbody>\n",
       "    <tr>\n",
       "      <td>1</td>\n",
       "      <td>0.636000</td>\n",
       "      <td>0.551650</td>\n",
       "      <td>57.847126</td>\n",
       "    </tr>\n",
       "    <tr>\n",
       "      <td>2</td>\n",
       "      <td>0.538600</td>\n",
       "      <td>0.539249</td>\n",
       "      <td>58.447882</td>\n",
       "    </tr>\n",
       "    <tr>\n",
       "      <td>3</td>\n",
       "      <td>0.496300</td>\n",
       "      <td>0.537779</td>\n",
       "      <td>58.537629</td>\n",
       "    </tr>\n",
       "  </tbody>\n",
       "</table><p>"
      ],
      "text/plain": [
       "<IPython.core.display.HTML object>"
      ]
     },
     "metadata": {},
     "output_type": "display_data"
    },
    {
     "name": "stderr",
     "output_type": "stream",
     "text": [
      "/home/ubuntu/.local/lib/python3.10/site-packages/transformers/modeling_utils.py:2758: UserWarning: Moving the following attributes in the config to the generation config: {'max_length': 512, 'num_beams': 4, 'bad_words_ids': [[59513]]}. You are seeing this warning because you've set generation parameters in the model config, as opposed to in the generation config.\n",
      "  warnings.warn(\n"
     ]
    },
    {
     "data": {
      "text/plain": [
       "TrainOutput(global_step=1974, training_loss=0.533922158717626, metrics={'train_runtime': 806.3848, 'train_samples_per_second': 39.134, 'train_steps_per_second': 2.448, 'total_flos': 601858583691264.0, 'train_loss': 0.533922158717626, 'epoch': 3.0})"
      ]
     },
     "execution_count": 12,
     "metadata": {},
     "output_type": "execute_result"
    }
   ],
   "source": [
    "# fine-tune the model\n",
    "trainer.train()"
   ]
  },
  {
   "cell_type": "code",
   "execution_count": 13,
   "id": "5e85d001-0777-4ed0-870c-3a6ac1906ee6",
   "metadata": {},
   "outputs": [
    {
     "data": {
      "text/html": [],
      "text/plain": [
       "<IPython.core.display.HTML object>"
      ]
     },
     "metadata": {},
     "output_type": "display_data"
    },
    {
     "name": "stdout",
     "output_type": "stream",
     "text": [
      "evaluation metrics: {'eval_loss': 0.5377790331840515, 'eval_bleu': 58.5376294840819, 'eval_runtime': 231.4471, 'eval_samples_per_second': 11.363, 'eval_steps_per_second': 0.713, 'epoch': 3.0}\n"
     ]
    }
   ],
   "source": [
    "# evaluate the model on the test set\n",
    "eval_results = trainer.evaluate(tokenized_ds[\"test\"])\n",
    "print(\"evaluation metrics:\", eval_results)"
   ]
  },
  {
   "cell_type": "code",
   "execution_count": 17,
   "id": "72cffb87-353e-463f-a5f4-bcee89fa0295",
   "metadata": {},
   "outputs": [
    {
     "data": {
      "text/html": [],
      "text/plain": [
       "<IPython.core.display.HTML object>"
      ]
     },
     "metadata": {},
     "output_type": "display_data"
    },
    {
     "name": "stdout",
     "output_type": "stream",
     "text": [
      "example 0:\n",
      "english: 13- to encourage governments to adopt strategies with concrete measures to ensure improved gender balance in decision making, to engage in dialogue with social partners and sectorial regulatory bodies to promote/adopt relevant measures - To continue to engage in dialogue with social partners To implement projects aiming to improve the gender balance in decision making positions.\n",
      "pred: Avant de tirer ses conclusions, elle s'est engagée directement avec les parlements nationaux sur les questions soulevées, en particulier lors des réunions des commissions parlementaires pour les affaires de l'Union des parlements de l'UE (COSAC) du 13 juin 2016, au cours desquelles un échange préliminaire a porté sur les aspects procéduraux, et du 11 juillet 2016, au cours duquel une discussion de fond a eu lieu dans le cadre d'un débat plus large sur la dimension sociale de l'UE.\n",
      "label: Avant de tirer ses conclusions, elle a dialogué directement avec les parlements nationaux à propos des questions soulevées, notamment lors de la réunion de la Conférence des organes parlementaires spécialisés dans les affaires de l'Union européenne (COSAC) qui s'est tenue le 13 juin 2016, où un échange préliminaire a mis l'accent sur les questions de procédure, et lors de la réunion du 11 juillet 2016, durant laquelle une discussion de fond s'est déroulée dans le cadre d'un débat plus vaste sur la dimension sociale de l'UE.\n",
      "example 1:\n",
      "english: 13- to encourage governments to adopt strategies with concrete measures to ensure improved gender balance in decision making, to engage in dialogue with social partners and sectorial regulatory bodies to promote/adopt relevant measures - To continue to engage in dialogue with social partners To implement projects aiming to improve the gender balance in decision making positions.\n",
      "pred: Notification d'alerte et évaluation des risques pour la santé publique 8\n",
      "label: Notification d'alertes et évaluation des risques pour la santé publique 6\n",
      "example 2:\n",
      "english: 13- to encourage governments to adopt strategies with concrete measures to ensure improved gender balance in decision making, to engage in dialogue with social partners and sectorial regulatory bodies to promote/adopt relevant measures - To continue to engage in dialogue with social partners To implement projects aiming to improve the gender balance in decision making positions.\n",
      "pred: Les autorités de gestion seront en mesure de renverser les procédures et systèmes d'irrégularités et de prévention de la fraude qu'elles ont mis en place.\n",
      "label: Les autorités de gestion auront la possibilité de reconduire les processus et systèmes de prévention des irrégularités et des fraudes qu'ils ont mis en place.\n",
      "example 3:\n",
      "english: 13- to encourage governments to adopt strategies with concrete measures to ensure improved gender balance in decision making, to engage in dialogue with social partners and sectorial regulatory bodies to promote/adopt relevant measures - To continue to engage in dialogue with social partners To implement projects aiming to improve the gender balance in decision making positions.\n",
      "pred: élaborer des orientations pour surmonter les obstacles juridiques et techniques entravant l'interopérabilité des systèmes nationaux d'information sur la vaccination, en tenant dûment compte des règles relatives à la protection des données à caractère personnel, telles qu'énoncées dans la communication de la Commission intitulée «Permettre la transformation numérique de la santé et des soins dans le marché unique numérique, donner aux citoyens les moyens d'agir et construire une société plus saine».\n",
      "label: 22. élaborer des orientations pour surmonter les obstacles juridiques et techniques à l'interopérabilité des systèmes nationaux d'information sur la vaccination, en tenant dûment compte des règles relatives à la protection des données à caractère personnel, conformément à la communication de la Commission intitulée «Permettre la transformation numérique des services de santé et de soins dans le marché unique numérique; donner aux citoyens les moyens d'agir et construire une société plus saine»;\n",
      "example 4:\n",
      "english: 13- to encourage governments to adopt strategies with concrete measures to ensure improved gender balance in decision making, to engage in dialogue with social partners and sectorial regulatory bodies to promote/adopt relevant measures - To continue to engage in dialogue with social partners To implement projects aiming to improve the gender balance in decision making positions.\n",
      "pred: 13 - encourager les gouvernements à adopter des stratégies assorties de mesures concrètes visant à améliorer la parité entre les hommes et les femmes dans le processus décisionnel, à engager un dialogue avec les partenaires sociaux et les organismes sectoriels de réglementation afin de promouvoir/adopter des mesures pertinentes - Continuer à engager un dialogue avec les partenaires sociaux Mettre en œuvre des projets visant à améliorer la parité entre les hommes et les femmes dans les postes de décision.\n",
      "label: 13 - Encourager les gouvernements à adopter des stratégies prévoyant des mesures concrètes pour améliorer la parité hommes-femmes dans la prise de décision, dialoguer avec les partenaires sociaux et les organismes de réglementation sectoriels afin de promouvoir/d'adopter des mesures pertinentes - Continuer à dialoguer avec les partenaires sociaux Mettre en œuvre des projets visant à améliorer la parité hommes-femmes aux postes décisionnels Encourager des mesures nationales concrètes ayant pour effet d'améliorer la représentation du sexe sous-représenté dans la prise de décision Entamer et favoriser le dialogue avec les organismes de réglementation sectoriels en cours Commission européenne Partenaires sociaux Autorités nationales Organismes de réglementation\n"
     ]
    }
   ],
   "source": [
    "# generate predictions on a few test examples\n",
    "sample_test = tokenized_ds[\"test\"].select(range(5))\n",
    "predictions = trainer.predict(sample_test)\n",
    "decoded_preds = tokenizer.batch_decode(predictions.predictions, skip_special_tokens=True)\n",
    "decoded_labels = tokenizer.batch_decode(sample_test[\"labels\"], skip_special_tokens=True)\n",
    "\n",
    "for i, (pred, label) in enumerate(zip(decoded_preds, decoded_labels)):\n",
    "    print(f\"example {i}:\")\n",
    "    print(\"english:\", example[\"translation\"][\"en\"])\n",
    "    print(\"pred:\", pred)\n",
    "    print(\"label:\", label)"
   ]
  },
  {
   "cell_type": "code",
   "execution_count": 19,
   "id": "0cd3f654-79dd-42a0-a875-2e5460f70e5c",
   "metadata": {},
   "outputs": [
    {
     "data": {
      "text/html": [],
      "text/plain": [
       "<IPython.core.display.HTML object>"
      ]
     },
     "metadata": {},
     "output_type": "display_data"
    },
    {
     "name": "stderr",
     "output_type": "stream",
     "text": [
      "/tmp/ipykernel_3065/4194146799.py:11: FutureWarning: `tokenizer` is deprecated and will be removed in version 5.0.0 for `Seq2SeqTrainer.__init__`. Use `processing_class` instead.\n",
      "  base_trainer = Seq2SeqTrainer(\n"
     ]
    },
    {
     "data": {
      "text/html": [],
      "text/plain": [
       "<IPython.core.display.HTML object>"
      ]
     },
     "metadata": {},
     "output_type": "display_data"
    },
    {
     "name": "stdout",
     "output_type": "stream",
     "text": [
      "example 0:\n",
      "english      : Before drawing its conclusions, it engaged directly with national Parliaments on the issues raised, in particular at the Conference of Parliamentary Committees for Union Affairs of Parliaments of the EU (COSAC) meetings of 13 June 2016, where a preliminary exchange focused on procedural aspects took place, and of 11 July 2016, where a substantive discussion took place in the context of a broader debate on the social dimension of the EU.\n",
      "sft prediction: Avant de tirer ses conclusions, elle s'est engagée directement avec les parlements nationaux sur les questions soulevées, en particulier lors des réunions des commissions parlementaires pour les affaires de l'Union des parlements de l'UE (COSAC) du 13 juin 2016, au cours desquelles un échange préliminaire a porté sur les aspects procéduraux, et du 11 juillet 2016, au cours duquel une discussion de fond a eu lieu dans le cadre d'un débat plus large sur la dimension sociale de l'UE.\n",
      "base prediction: Avant de tirer ses conclusions, il s'est engagé directement avec les parlements nationaux sur les questions soulevées, en particulier lors de la Conférence des commissions parlementaires pour les affaires de l'Union des parlements de l'UE (COSAC) du 13 juin 2016, où un échange préliminaire a porté sur les aspects procéduraux, et du 11 juillet 2016, où une discussion de fond a eu lieu dans le cadre d'un débat plus large sur la dimension sociale de l'UE.\n",
      "reference    : Avant de tirer ses conclusions, elle a dialogué directement avec les parlements nationaux à propos des questions soulevées, notamment lors de la réunion de la Conférence des organes parlementaires spécialisés dans les affaires de l'Union européenne (COSAC) qui s'est tenue le 13 juin 2016, où un échange préliminaire a mis l'accent sur les questions de procédure, et lors de la réunion du 11 juillet 2016, durant laquelle une discussion de fond s'est déroulée dans le cadre d'un débat plus vaste sur la dimension sociale de l'UE.\n",
      "--------------------------------------------------\n",
      "example 1:\n",
      "english      : Alert notification and public health risk assessment 8\n",
      "sft prediction: Notification d'alerte et évaluation des risques pour la santé publique 8\n",
      "base prediction: Avis d'alerte et évaluation des risques pour la santé publique 8\n",
      "reference    : Notification d'alertes et évaluation des risques pour la santé publique 6\n",
      "--------------------------------------------------\n",
      "example 2:\n",
      "english      : Managing authorities will be enable to roll over the irregularities and fraud prevention processes and systems they have put in place.\n",
      "sft prediction: Les autorités de gestion seront en mesure de renverser les procédures et systèmes d'irrégularités et de prévention de la fraude qu'elles ont mis en place.\n",
      "base prediction: Les autorités de gestion seront en mesure de renverser les procédures et les systèmes de prévention des irrégularités et des fraudes qu'elles ont mis en place.\n",
      "reference    : Les autorités de gestion auront la possibilité de reconduire les processus et systèmes de prévention des irrégularités et des fraudes qu'ils ont mis en place.\n",
      "--------------------------------------------------\n",
      "example 3:\n",
      "english      : Develop guidance to overcome the legal and technical barriers impeding the interoperability of national immunisation information systems, having due regard to rules on personal data protection, as set out in the Commission Communication on enabling the digital transformation of health and care in the Digital Single Market, empowering citizens and building a healthier society.\n",
      "sft prediction: élaborer des orientations pour surmonter les obstacles juridiques et techniques entravant l'interopérabilité des systèmes nationaux d'information sur la vaccination, en tenant dûment compte des règles relatives à la protection des données à caractère personnel, telles qu'énoncées dans la communication de la Commission intitulée «Permettre la transformation numérique de la santé et des soins dans le marché unique numérique, donner aux citoyens les moyens d'agir et construire une société plus saine».\n",
      "base prediction: Élaborer des orientations pour surmonter les obstacles juridiques et techniques entravant l'interopérabilité des systèmes nationaux d'information sur l'immunisation, en tenant dûment compte des règles relatives à la protection des données à caractère personnel, telles qu'énoncées dans la communication de la Commission sur la facilitation de la transformation numérique de la santé et des soins dans le marché unique numérique, l'autonomisation des citoyens et l'édification d'une société plus saine.\n",
      "reference    : 22. élaborer des orientations pour surmonter les obstacles juridiques et techniques à l'interopérabilité des systèmes nationaux d'information sur la vaccination, en tenant dûment compte des règles relatives à la protection des données à caractère personnel, conformément à la communication de la Commission intitulée «Permettre la transformation numérique des services de santé et de soins dans le marché unique numérique; donner aux citoyens les moyens d'agir et construire une société plus saine»;\n",
      "--------------------------------------------------\n",
      "example 4:\n",
      "english      : 13- to encourage governments to adopt strategies with concrete measures to ensure improved gender balance in decision making, to engage in dialogue with social partners and sectorial regulatory bodies to promote/adopt relevant measures - To continue to engage in dialogue with social partners To implement projects aiming to improve the gender balance in decision making positions.\n",
      "sft prediction: 13 - encourager les gouvernements à adopter des stratégies assorties de mesures concrètes visant à améliorer la parité entre les hommes et les femmes dans le processus décisionnel, à engager un dialogue avec les partenaires sociaux et les organismes sectoriels de réglementation afin de promouvoir/adopter des mesures pertinentes - Continuer à engager un dialogue avec les partenaires sociaux Mettre en œuvre des projets visant à améliorer la parité entre les hommes et les femmes dans les postes de décision.\n",
      "base prediction: 13- encourager les gouvernements à adopter des stratégies comportant des mesures concrètes visant à améliorer l'équilibre entre les sexes dans la prise de décisions, à engager un dialogue avec les partenaires sociaux et les organismes de réglementation sectoriels en vue de promouvoir/d'adopter des mesures pertinentes - Continuer à engager un dialogue avec les partenaires sociaux Mettre en œuvre des projets visant à améliorer l'équilibre entre les sexes dans les postes de décision.\n",
      "reference    : 13 - Encourager les gouvernements à adopter des stratégies prévoyant des mesures concrètes pour améliorer la parité hommes-femmes dans la prise de décision, dialoguer avec les partenaires sociaux et les organismes de réglementation sectoriels afin de promouvoir/d'adopter des mesures pertinentes - Continuer à dialoguer avec les partenaires sociaux Mettre en œuvre des projets visant à améliorer la parité hommes-femmes aux postes décisionnels Encourager des mesures nationales concrètes ayant pour effet d'améliorer la représentation du sexe sous-représenté dans la prise de décision Entamer et favoriser le dialogue avec les organismes de réglementation sectoriels en cours Commission européenne Partenaires sociaux Autorités nationales Organismes de réglementation\n",
      "--------------------------------------------------\n"
     ]
    }
   ],
   "source": [
    "# get a few original examples from the test set (for english and reference french)\n",
    "sample_original = ds[\"test\"].select(range(5))\n",
    "\n",
    "# get predictions from the fine-tuned (sft) model\n",
    "ft_predictions = trainer.predict(sample_test)\n",
    "ft_decoded_preds = tokenizer.batch_decode(ft_predictions.predictions, skip_special_tokens=True)\n",
    "\n",
    "\n",
    "# load the base model and set up a trainer for it with an eval_dataset\n",
    "base_model = AutoModelForSeq2SeqLM.from_pretrained(model_name)\n",
    "base_trainer = Seq2SeqTrainer(\n",
    "    model=base_model,\n",
    "    args=training_args,  # reuse same args\n",
    "    eval_dataset=sample_test,  # add this line\n",
    "    tokenizer=tokenizer,\n",
    "    data_collator=data_collator\n",
    ")\n",
    "base_predictions = base_trainer.predict(sample_test)\n",
    "base_decoded_preds = tokenizer.batch_decode(base_predictions.predictions, skip_special_tokens=True)\n",
    "\n",
    "\n",
    "# print comparisons: original english, fine-tuned pred, base model pred, and reference french\n",
    "for i, example in enumerate(sample_original):\n",
    "    english_text = example[\"translation\"][\"en\"]\n",
    "    ref_text = example[\"translation\"][\"fr\"]\n",
    "    print(f\"example {i}:\")\n",
    "    print(\"english      :\", english_text)\n",
    "    print(\"sft prediction:\", ft_decoded_preds[i])\n",
    "    print(\"base prediction:\", base_decoded_preds[i])\n",
    "    print(\"reference    :\", ref_text)\n",
    "    print(\"-\" * 50)"
   ]
  },
  {
   "cell_type": "code",
   "execution_count": null,
   "id": "d5b822b1-85ee-417f-a2e3-a9d5dd304338",
   "metadata": {},
   "outputs": [],
   "source": []
  }
 ],
 "metadata": {
  "kernelspec": {
   "display_name": "Python 3 (ipykernel)",
   "language": "python",
   "name": "python3"
  },
  "language_info": {
   "codemirror_mode": {
    "name": "ipython",
    "version": 3
   },
   "file_extension": ".py",
   "mimetype": "text/x-python",
   "name": "python",
   "nbconvert_exporter": "python",
   "pygments_lexer": "ipython3",
   "version": "3.10.12"
  }
 },
 "nbformat": 4,
 "nbformat_minor": 5
}
